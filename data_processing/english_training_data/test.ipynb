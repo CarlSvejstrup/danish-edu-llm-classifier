{
 "cells": [
  {
   "cell_type": "code",
   "execution_count": 27,
   "id": "6d708138",
   "metadata": {},
   "outputs": [
    {
     "data": {
      "text/plain": [
       "0    2\n",
       "1    1\n",
       "2    2\n",
       "3    1\n",
       "4    2\n",
       "Name: int_score, dtype: int64"
      ]
     },
     "execution_count": 27,
     "metadata": {},
     "output_type": "execute_result"
    },
    {
     "data": {
      "image/png": "[encoded data removed]",
      "text/plain": [
       "<Figure size 640x480 with 1 Axes>"
      ]
     },
     "metadata": {},
     "output_type": "display_data"
    }
   ],
   "source": [
    "# load dataset for\n",
    "\n",
    "import pandas as pd\n",
    "from matplotlib import pyplot as plt\n",
    "\n",
    "\n",
    "\n",
    "df_csv = pd.read_csv(\"../../data/english_classified_samples.csv\", encoding=\"utf-8\")\n",
    "\n",
    "\n",
    "\n",
    "# plot the class distribution of the int_score\n",
    "df[\"int_score\"].value_counts().plot(kind=\"bar\", title=\"Class Distribution of int_score\")\n",
    "\n",
    "# plot the class distribution of the int_score\n",
    "df_csv[\"int_score\"].value_counts().plot(kind=\"bar\", title=\"Class Distribution of int_score\")\n",
    "\n",
    "df_csv['int_score'].head()\n"
   ]
  },
  {
   "cell_type": "code",
   "execution_count": 25,
   "id": "1f624217",
   "metadata": {},
   "outputs": [
    {
     "name": "stderr",
     "output_type": "stream",
     "text": [
      "huggingface/tokenizers: The current process just got forked, after parallelism has already been used. Disabling parallelism to avoid deadlocks...\n",
      "To disable this warning, you can either:\n",
      "\t- Avoid using `tokenizers` before the fork if possible\n",
      "\t- Explicitly set the environment variable TOKENIZERS_PARALLELISM=(true | false)\n"
     ]
    },
    {
     "name": "stdout",
     "output_type": "stream",
     "text": [
      "Requirement already satisfied: matplotlib in /Users/carlschmidt-svejstrup/Documents/GitHub/danish-edu-llm-classifier/venv/lib/python3.11/site-packages (3.10.3)\n",
      "Requirement already satisfied: contourpy>=1.0.1 in /Users/carlschmidt-svejstrup/Documents/GitHub/danish-edu-llm-classifier/venv/lib/python3.11/site-packages (from matplotlib) (1.3.2)\n",
      "Requirement already satisfied: cycler>=0.10 in /Users/carlschmidt-svejstrup/Documents/GitHub/danish-edu-llm-classifier/venv/lib/python3.11/site-packages (from matplotlib) (0.12.1)\n",
      "Requirement already satisfied: fonttools>=4.22.0 in /Users/carlschmidt-svejstrup/Documents/GitHub/danish-edu-llm-classifier/venv/lib/python3.11/site-packages (from matplotlib) (4.58.1)\n",
      "Requirement already satisfied: kiwisolver>=1.3.1 in /Users/carlschmidt-svejstrup/Documents/GitHub/danish-edu-llm-classifier/venv/lib/python3.11/site-packages (from matplotlib) (1.4.8)\n",
      "Requirement already satisfied: numpy>=1.23 in /Users/carlschmidt-svejstrup/Documents/GitHub/danish-edu-llm-classifier/venv/lib/python3.11/site-packages (from matplotlib) (2.2.6)\n",
      "Requirement already satisfied: packaging>=20.0 in /Users/carlschmidt-svejstrup/Documents/GitHub/danish-edu-llm-classifier/venv/lib/python3.11/site-packages (from matplotlib) (25.0)\n",
      "Requirement already satisfied: pillow>=8 in /Users/carlschmidt-svejstrup/Documents/GitHub/danish-edu-llm-classifier/venv/lib/python3.11/site-packages (from matplotlib) (11.2.1)\n",
      "Requirement already satisfied: pyparsing>=2.3.1 in /Users/carlschmidt-svejstrup/Documents/GitHub/danish-edu-llm-classifier/venv/lib/python3.11/site-packages (from matplotlib) (3.2.3)\n",
      "Requirement already satisfied: python-dateutil>=2.7 in /Users/carlschmidt-svejstrup/Documents/GitHub/danish-edu-llm-classifier/venv/lib/python3.11/site-packages (from matplotlib) (2.9.0.post0)\n",
      "Requirement already satisfied: six>=1.5 in /Users/carlschmidt-svejstrup/Documents/GitHub/danish-edu-llm-classifier/venv/lib/python3.11/site-packages (from python-dateutil>=2.7->matplotlib) (1.17.0)\n",
      "\n",
      "\u001b[1m[\u001b[0m\u001b[34;49mnotice\u001b[0m\u001b[1;39;49m]\u001b[0m\u001b[39;49m A new release of pip is available: \u001b[0m\u001b[31;49m23.2.1\u001b[0m\u001b[39;49m -> \u001b[0m\u001b[32;49m25.1.1\u001b[0m\n",
      "\u001b[1m[\u001b[0m\u001b[34;49mnotice\u001b[0m\u001b[1;39;49m]\u001b[0m\u001b[39;49m To update, run: \u001b[0m\u001b[32;49mpip install --upgrade pip\u001b[0m\n",
      "Note: you may need to restart the kernel to use updated packages.\n"
     ]
    }
   ],
   "source": [
    "pip install matplotlib"
   ]
  },
  {
   "cell_type": "code",
   "execution_count": null,
   "id": "c1096683",
   "metadata": {},
   "outputs": [],
   "source": []
  }
 ],
 "metadata": {
  "language_info": {
   "name": "python"
  }
 },
 "nbformat": 4,
 "nbformat_minor": 5
}
