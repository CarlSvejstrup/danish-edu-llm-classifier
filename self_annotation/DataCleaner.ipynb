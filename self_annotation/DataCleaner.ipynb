{
 "cells": [
  {
   "cell_type": "code",
   "execution_count": null,
   "metadata": {},
   "outputs": [],
   "source": [
    "import pandas as pd\n",
    "import numpy as np\n",
    "from collections import defaultdict\n",
    "\n",
    "df = pd.read_parquet(\"finewebC_danish.parquet\")"
   ]
  },
  {
   "cell_type": "code",
   "execution_count": null,
   "metadata": {},
   "outputs": [
    {
     "name": "stdout",
     "output_type": "stream",
     "text": [
      "{'None': 1278, 'Minimal': 696, '❗ Problematic Content ❗': 370, 'Basic': 185, 'Good': 34, 'Excellent': 10}\n"
     ]
    }
   ],
   "source": [
    "labels = np.concatenate(df[\"educational_value_labels\"].values)\n",
    "np.unique(labels)\n",
    "\n",
    "label_counts = defaultdict(int)\n",
    "for label in labels:\n",
    "    label_counts[label] += 1\n",
    "\n",
    "print(dict(label_counts))"
   ]
  },
  {
   "cell_type": "code",
   "execution_count": null,
   "metadata": {},
   "outputs": [],
   "source": [
    "# Filter out rows with problematic content\n",
    "def get_sample(df, N, bias):\n",
    "\n",
    "    filtered_df = df[df[\"problematic_content_label_present\"] == False]\n",
    "    filtered_df = filtered_df[filtered_df[\"educational_value_labels\"].apply(lambda x: len(x) > 2)]\n",
    "\n",
    "    mask_ex = filtered_df[\"educational_value_labels\"].apply(lambda labels: any(label in {'Excellent'} for label in labels))\n",
    "    mask_good = filtered_df[\"educational_value_labels\"].apply(lambda labels: any(label in {'Good'} for label in labels))\n",
    "\n",
    "    for i in range(len(mask_ex)):\n",
    "        if np.random.rand() > bias:\n",
    "            mask_good[i] = False\n",
    "\n",
    "    \n",
    "    combined_mask = mask_ex | mask_good\n",
    "    count = len(filtered_df[combined_mask])\n",
    "    \n",
    "    if count >= N:\n",
    "        return count\n",
    "\n",
    "    filtered_df_sampling = filtered_df[combined_mask == False]\n",
    "\n",
    "    df_sample = filtered_df_sampling.sample(n=N - count, random_state=43)\n",
    "\n",
    "    df_final = pd.concat([filtered_df[combined_mask], df_sample], ignore_index=True)\n",
    "\n",
    "    df_final = df_final.sample(frac=1, random_state=42).reset_index(drop=True)\n",
    "\n",
    "    return df_final"
   ]
  },
  {
   "cell_type": "code",
   "execution_count": 239,
   "metadata": {},
   "outputs": [
    {
     "name": "stdout",
     "output_type": "stream",
     "text": [
      "{'None': 124, 'Basic': 39, 'Minimal': 104, 'Excellent': 9, 'Good': 24}\n"
     ]
    },
    {
     "name": "stderr",
     "output_type": "stream",
     "text": [
      "/var/folders/t1/pvhvgdyj15g798qw31m8tb8c0000gn/T/ipykernel_65083/2042690181.py:16: UserWarning: Boolean Series key will be reindexed to match DataFrame index.\n",
      "  count = len(filtered_df[combined_mask])\n",
      "/var/folders/t1/pvhvgdyj15g798qw31m8tb8c0000gn/T/ipykernel_65083/2042690181.py:21: UserWarning: Boolean Series key will be reindexed to match DataFrame index.\n",
      "  filtered_df_sampling = filtered_df[combined_mask == False]\n",
      "/var/folders/t1/pvhvgdyj15g798qw31m8tb8c0000gn/T/ipykernel_65083/2042690181.py:25: UserWarning: Boolean Series key will be reindexed to match DataFrame index.\n",
      "  df_final = pd.concat([filtered_df[combined_mask], df_sample], ignore_index=True)\n"
     ]
    }
   ],
   "source": [
    "df_final = get_sample(df, 100, 0.7)\n",
    "\n",
    "labels = np.concatenate(df_final[\"educational_value_labels\"].values)\n",
    "label_counts = defaultdict(int)\n",
    "for label in labels:\n",
    "    label_counts[label] += 1\n",
    "\n",
    "print(dict(label_counts))"
   ]
  },
  {
   "cell_type": "code",
   "execution_count": null,
   "metadata": {},
   "outputs": [],
   "source": [
    "# df_final.to_csv(\"data_to_annotate.csv\", index=False)"
   ]
  }
 ],
 "metadata": {
  "kernelspec": {
   "display_name": "FP25",
   "language": "python",
   "name": "python3"
  },
  "language_info": {
   "codemirror_mode": {
    "name": "ipython",
    "version": 3
   },
   "file_extension": ".py",
   "mimetype": "text/x-python",
   "name": "python",
   "nbconvert_exporter": "python",
   "pygments_lexer": "ipython3",
   "version": "3.11.11"
  }
 },
 "nbformat": 4,
 "nbformat_minor": 2
}
