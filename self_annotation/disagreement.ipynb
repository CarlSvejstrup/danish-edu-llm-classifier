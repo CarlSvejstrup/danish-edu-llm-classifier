{
 "cells": [
  {
   "cell_type": "code",
   "execution_count": null,
   "id": "a329e5c3",
   "metadata": {},
   "outputs": [],
   "source": [
    "import numpy as np\n",
    "import pandas as pd\n",
    "import re\n",
    "import krippendorff\n",
    "from collections import defaultdict\n",
    "from itertools import combinations"
   ]
  },
  {
   "cell_type": "code",
   "execution_count": null,
   "id": "d2a91915",
   "metadata": {},
   "outputs": [],
   "source": [
    "df_mikkel = pd.read_json(\"annotations_mikkel.json\")\n",
    "\n",
    "#Fix of dataframe\n",
    "def parse_label_string(label_str):\n",
    "    return re.findall(r\"'(.*?)'\", label_str)\n",
    "\n",
    "df_mikkel['original_label'] = df_mikkel['original_label'].apply(parse_label_string)\n",
    "\n",
    "#Check:\n",
    "df_mikkel[\"original_label\"].iloc[0][0]"
   ]
  },
  {
   "cell_type": "code",
   "execution_count": null,
   "id": "560d1aa7",
   "metadata": {},
   "outputs": [],
   "source": [
    "num_encoder = {'None': 0,\n",
    "               'Minimal': 1,\n",
    "               'Basic': 2,\n",
    "               'Good': 3,\n",
    "               'Excellent': 4}\n",
    "\n",
    "N = len(df_mikkel)\n",
    "score_data = []\n",
    "\n",
    "for i in range(len(df_mikkel)):\n",
    "    labels = [df_mikkel[\"our_label\"].iloc[i]] + df_mikkel[\"original_label\"].iloc[i]\n",
    "    scores = [num_encoder[label] for label in labels]\n",
    "    score_data.append(scores) #list of lists"
   ]
  },
  {
   "cell_type": "code",
   "execution_count": 33,
   "id": "5c974800",
   "metadata": {},
   "outputs": [
    {
     "data": {
      "text/plain": [
       "np.float64(0.08975168350168351)"
      ]
     },
     "execution_count": 33,
     "metadata": {},
     "output_type": "execute_result"
    }
   ],
   "source": [
    "R = 5 #number of ratings\n",
    "\n",
    "SD_list = []\n",
    "\n",
    "for scores in score_data[1:]:\n",
    "    c = len(scores)\n",
    "    SD = (1 / (c * (c - 1))) * sum(\n",
    "        ((scores[j] - scores[k]) / (R - 1)) ** 2\n",
    "        for j in range(c)\n",
    "        for k in range(c)\n",
    "        if j != k\n",
    "    )\n",
    "    SD_list.append(SD)\n",
    "\n",
    "MSD = np.mean(SD_list)\n",
    "MSD"
   ]
  },
  {
   "cell_type": "code",
   "execution_count": null,
   "id": "edb1f0da",
   "metadata": {},
   "outputs": [
    {
     "data": {
      "text/plain": [
       "53.3125"
      ]
     },
     "execution_count": 36,
     "metadata": {},
     "output_type": "execute_result"
    }
   ],
   "source": [
    "R = 5 #number of ratings\n",
    "\n",
    "SD_list = []\n",
    "\n",
    "for scores in score_data:\n",
    "    c = len(scores)\n",
    "    #The Squared Difference between unordered distinct pairs for one text:\n",
    "    SD = (2 / (c * (c - 1))) * sum((\n",
    "        (scores[j] - scores[k]) / (R - 1)) ** 2 \n",
    "        for j in range(c) \n",
    "        for k in range(j+1,c))\n",
    "    SD_list.append(SD)\n",
    "\n",
    "MSD = np.mean(SD_list)\n",
    "MSD\n"
   ]
  },
  {
   "cell_type": "code",
   "execution_count": 37,
   "id": "2579b14b",
   "metadata": {},
   "outputs": [
    {
     "data": {
      "text/plain": [
       "np.float64(0.382356809230209)"
      ]
     },
     "execution_count": 37,
     "metadata": {},
     "output_type": "execute_result"
    }
   ],
   "source": [
    "reliability_data = np.array(score_data).T \n",
    "alpha = krippendorff.alpha(reliability_data=reliability_data, level_of_measurement='ordinal')\n",
    "alpha"
   ]
  },
  {
   "cell_type": "code",
   "execution_count": null,
   "id": "9b93e5bf",
   "metadata": {},
   "outputs": [
    {
     "name": "stdout",
     "output_type": "stream",
     "text": [
      "Observed disagreement Dₒ: 35.5417\n",
      "Expected disagreement Dₑ: 57.1551\n",
      "Krippendorff’s alpha (ordinal): 0.3782\n"
     ]
    }
   ],
   "source": [
    "# Step 1: Define ordinal scale and distance\n",
    "ordinal_values = sorted(set(r for ratings in score_data for r in ratings))\n",
    "R = len(ordinal_values)\n",
    "\n",
    "def ordinal_distance(a, b):\n",
    "    return ((a - b) / (R - 1)) ** 2\n",
    "\n",
    "# Distance lookup table\n",
    "delta = {\n",
    "    (a, b): ordinal_distance(a, b)\n",
    "    for a in ordinal_values\n",
    "    for b in ordinal_values\n",
    "}\n",
    "\n",
    "# ---------------------\n",
    "# Step 2: Build the coincidence matrix\n",
    "coincidence = defaultdict(float)\n",
    "label_totals = defaultdict(float)\n",
    "\n",
    "for ratings in score_data:\n",
    "    n = len(ratings)\n",
    "    if n < 2:\n",
    "        continue  # skip items with fewer than 2 ratings\n",
    "    weight = 1 / (n - 1)\n",
    "    for i in range(n):\n",
    "        label_totals[ratings[i]] += 1\n",
    "        for j in range(n):\n",
    "            if i != j:\n",
    "                a, b = ratings[i], ratings[j]\n",
    "                coincidence[(a, b)] += weight\n",
    "\n",
    "# ---------------------\n",
    "# Step 3: Observed disagreement Dₒ\n",
    "Do = 0.0\n",
    "for (a, b), count in coincidence.items():\n",
    "    Do += count * delta[(a, b)]\n",
    "\n",
    "# ---------------------\n",
    "# Step 4: Expected disagreement Dₑ\n",
    "total_labels = sum(label_totals.values())\n",
    "De = 0.0\n",
    "\n",
    "for a in ordinal_values:\n",
    "    for b in ordinal_values:\n",
    "        expected = (label_totals[a] * label_totals[b]) / (total_labels - 1)\n",
    "        De += expected * delta[(a, b)]\n",
    "\n",
    "# ---------------------\n",
    "# Step 5: Krippendorff's alpha\n",
    "alpha = 1 - (Do / De) if De != 0 else float('nan')\n",
    "\n",
    "# ---------------------\n",
    "# Output\n",
    "print(f\"Observed disagreement Dₒ: {Do:.4f}\")\n",
    "print(f\"Expected disagreement Dₑ: {De:.4f}\")\n",
    "print(f\"Krippendorff’s alpha (ordinal): {alpha:.4f}\")"
   ]
  },
  {
   "cell_type": "code",
   "execution_count": 21,
   "id": "c4c81d56",
   "metadata": {},
   "outputs": [
    {
     "data": {
      "text/plain": [
       "np.float64(0.3781537938708267)"
      ]
     },
     "execution_count": 21,
     "metadata": {},
     "output_type": "execute_result"
    }
   ],
   "source": [
    "# Collect all annotation scores for each text\n",
    "all_scores = []\n",
    "within_ss = 0\n",
    "N = 0\n",
    "C = None\n",
    "\n",
    "for i in range(len(df_mikkel)):\n",
    "    labels = [df_mikkel[\"our_label\"].iloc[i]] + df_mikkel[\"original_label\"].iloc[i]\n",
    "    scores = [num_encoder[label] for label in labels]\n",
    "    all_scores.extend(scores)\n",
    "    mean_i = np.mean(scores)\n",
    "    within_ss += sum((x - mean_i) ** 2 for x in scores)\n",
    "    N += 1\n",
    "    if C is None:\n",
    "        C = len(scores)\n",
    "\n",
    "# Grand mean\n",
    "grand_mean = np.mean(all_scores)\n",
    "\n",
    "# Total sum of squares\n",
    "total_ss = sum((x - grand_mean) ** 2 for x in all_scores)\n",
    "\n",
    "# Degrees of freedom\n",
    "df_within = N * (C - 1)\n",
    "df_total = N * C - 1\n",
    "\n",
    "# Mean squares\n",
    "ms_within = within_ss / df_within\n",
    "ms_total = total_ss / df_total\n",
    "\n",
    "# Krippendorff's alpha\n",
    "alpha = 1 - (ms_within / ms_total)\n",
    "alpha"
   ]
  },
  {
   "cell_type": "code",
   "execution_count": 5,
   "id": "6bf2fb90",
   "metadata": {},
   "outputs": [
    {
     "data": {
      "text/plain": [
       "np.float64(1.4216666666666669)"
      ]
     },
     "execution_count": 5,
     "metadata": {},
     "output_type": "execute_result"
    }
   ],
   "source": [
    "SD_list = []\n",
    "\n",
    "for scores in score_data:\n",
    "    #Calculating Squared difference:\n",
    "    c = len(scores)\n",
    "    SD = (1 / (c * (c - 1))) * sum((scores[j] - scores[k]) ** 2 for j in range(c) for k in range(c))\n",
    "\n",
    "    SD_list.append(SD)\n",
    "\n",
    "MSD = np.mean(SD_list)\n",
    "MSD"
   ]
  }
 ],
 "metadata": {
  "kernelspec": {
   "display_name": "FP25",
   "language": "python",
   "name": "python3"
  },
  "language_info": {
   "codemirror_mode": {
    "name": "ipython",
    "version": 3
   },
   "file_extension": ".py",
   "mimetype": "text/x-python",
   "name": "python",
   "nbconvert_exporter": "python",
   "pygments_lexer": "ipython3",
   "version": "3.11.11"
  }
 },
 "nbformat": 4,
 "nbformat_minor": 5
}
